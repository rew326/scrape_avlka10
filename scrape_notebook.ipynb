{
 "cells": [
  {
   "cell_type": "code",
   "execution_count": 1,
   "metadata": {},
   "outputs": [],
   "source": [
    "# Pro tvoji informaci, kdybys chtel vedet vice co se deje: https://www.dataquest.io/blog/web-scraping-tutorial-python/"
   ]
  },
  {
   "cell_type": "code",
   "execution_count": 2,
   "metadata": {},
   "outputs": [],
   "source": [
    "# standartni library pro cmd a python requests\n",
    "import requests\n",
    "# HTML parser\n",
    "from bs4 import BeautifulSoup\n",
    "import pandas as pd"
   ]
  },
  {
   "cell_type": "code",
   "execution_count": 11,
   "metadata": {},
   "outputs": [],
   "source": [
    "# je to dynamicky nakonec, neobjevi se to v HTMl dokud neudelas expand\n",
    "# ale pak se snazi najit informace z URL kterou jsem pouzil jako parameter\n",
    "# da se to najit v Chrome Developer Tools\n",
    "page = requests.get(\"https://www.avlka.cz/init/action/asynTransfer/drawLeague/?league=286\")\n",
    "soup = BeautifulSoup(page.content, 'html.parser')\n",
    "\n",
    "#print(soup.prettify())\n"
   ]
  },
  {
   "cell_type": "code",
   "execution_count": 4,
   "metadata": {},
   "outputs": [
    {
     "name": "stdout",
     "output_type": "stream",
     "text": [
      "[<td style=\"text-align:center;\">1.</td>, <td data-sort-value=\"Na tahu\"><a href=\"https://www.avlka.cz/init/pages/team/na-tahu/\">Na tahu</a></td>, <td data-sort-value=\"48\">48</td>, <td>19</td>, <td data-sort-value=\"84.210526315789\">84.21 %</td>, <td style=\"text-align:center;\">2.</td>, <td data-sort-value=\"Game over\"><a href=\"https://www.avlka.cz/init/pages/team/game-over/\">Game over</a></td>, <td data-sort-value=\"40.9840002\">40</td>, <td>16</td>, <td data-sort-value=\"83.333333333333\">83.33 %</td>, <td style=\"text-align:center;\">3.</td>, <td data-sort-value=\"Pasakrys\"><a href=\"https://www.avlka.cz/init/pages/team/pasakrys/\">Pasakrys</a></td>, <td data-sort-value=\"40.9830001\">40</td>, <td>17</td>, <td data-sort-value=\"78.43137254902\">78.43 %</td>, <td style=\"text-align:center;\">4.</td>, <td data-sort-value=\"Odvodniny\"><a href=\"https://www.avlka.cz/init/pages/team/odvodniny/\">Odvodniny</a></td>, <td data-sort-value=\"30\">30</td>, <td>13</td>, <td data-sort-value=\"76.923076923077\">76.92 %</td>, <td style=\"text-align:center;\">5.</td>, <td data-sort-value=\"Velryby na suchu\"><a href=\"https://www.avlka.cz/init/pages/team/velryby-na-suchu/\">Velryby na suchu</a></td>, <td data-sort-value=\"27.98700020002\">27</td>, <td>13</td>, <td data-sort-value=\"69.230769230769\">69.23 %</td>, <td style=\"text-align:center;\">6.</td>, <td data-sort-value=\"Hypeq\"><a href=\"https://www.avlka.cz/init/pages/team/hypeq/\">Hypeq</a></td>, <td data-sort-value=\"33\">33</td>, <td>16</td>, <td data-sort-value=\"68.75\">68.75 %</td>, <td style=\"text-align:center;\">7.</td>, <td data-sort-value=\"Strazci pomerancu\"><a href=\"https://www.avlka.cz/init/pages/team/strazci-pomerancu/\">Strážci pomerančů</a></td>, <td data-sort-value=\"27.98600010002\">27</td>, <td>14</td>, <td data-sort-value=\"64.285714285714\">64.29 %</td>, <td style=\"text-align:center;\">8.</td>, <td data-sort-value=\"Planeta Prasat\"><a href=\"https://www.avlka.cz/init/pages/team/planeta-prasat/\">Planeta Prasat</a></td>, <td data-sort-value=\"35\">35</td>, <td>19</td>, <td data-sort-value=\"61.40350877193\">61.4 %</td>, <td style=\"text-align:center;\">9.</td>, <td data-sort-value=\"Bum bac Praha\"><a href=\"https://www.avlka.cz/init/pages/team/bum-bac-praha/\">Bum bác Praha</a></td>, <td data-sort-value=\"27.98500000003\">27</td>, <td>15</td>, <td data-sort-value=\"60\">60 %</td>, <td style=\"text-align:center;\">10.</td>, <td data-sort-value=\"Potencial\"><a href=\"https://www.avlka.cz/init/pages/team/potencial/\">Potenciál</a></td>, <td data-sort-value=\"27.98400030002\">27</td>, <td>16</td>, <td data-sort-value=\"56.25\">56.25 %</td>, <td style=\"text-align:center;\">11.</td>, <td data-sort-value=\"Bukanyri GBN\"><a href=\"https://www.avlka.cz/init/pages/team/bukanyri-gbn/\">Bukanýři GBN</a></td>, <td data-sort-value=\"23\">23</td>, <td>16</td>, <td data-sort-value=\"47.916666666667\">47.92 %</td>, <td style=\"text-align:center;\">12.</td>, <td data-sort-value=\"Anonymni tucnaci\"><a href=\"https://www.avlka.cz/init/pages/team/anonymni-tucnaci/\">Anonymní tučňáci</a></td>, <td data-sort-value=\"25\">25</td>, <td>19</td>, <td data-sort-value=\"43.859649122807\">43.86 %</td>, <td style=\"text-align:center;\">13.</td>, <td data-sort-value=\"Roozinky\"><a href=\"https://www.avlka.cz/init/pages/team/hc4/\">Roozinky</a></td>, <td data-sort-value=\"19\">19</td>, <td>15</td>, <td data-sort-value=\"42.222222222222\">42.22 %</td>, <td style=\"text-align:center;\">14.</td>, <td data-sort-value=\"LAMY\"><a href=\"https://www.avlka.cz/init/pages/team/lamy/\">LAMY</a></td>, <td data-sort-value=\"22\">22</td>, <td>19</td>, <td data-sort-value=\"38.59649122807\">38.6 %</td>, <td style=\"text-align:center;\">15.</td>, <td data-sort-value=\"Zelvi salat\"><a href=\"https://www.avlka.cz/init/pages/team/zelvi-salat/\">Želví salát</a></td>, <td data-sort-value=\"14.9860003\">14</td>, <td>14</td>, <td data-sort-value=\"33.333333333333\">33.33 %</td>, <td style=\"text-align:center;\">16.</td>, <td data-sort-value=\"DIDUS INEPTUS\"><a href=\"https://www.avlka.cz/init/pages/team/didus-ineptus/\">DIDUS INEPTUS</a></td>, <td data-sort-value=\"16\">16</td>, <td>19</td>, <td data-sort-value=\"28.070175438596\">28.07 %</td>, <td style=\"text-align:center;\">17.</td>, <td data-sort-value=\"Bile labute\"><a href=\"https://www.avlka.cz/init/pages/team/bile-labute/\">Bílé labutě</a></td>, <td data-sort-value=\"14.98100000001\">14</td>, <td>19</td>, <td data-sort-value=\"24.561403508772\">24.56 %</td>, <td style=\"text-align:center;\">18.</td>, <td data-sort-value=\"Ouagadougou\"><a href=\"https://www.avlka.cz/init/pages/team/ouagadougou/\">Ouagadougou</a></td>, <td data-sort-value=\"13\">13</td>, <td>19</td>, <td data-sort-value=\"22.80701754386\">22.81 %</td>, <td style=\"text-align:center;\">19.</td>, <td data-sort-value=\"Svetaci\"><a href=\"https://www.avlka.cz/init/pages/team/svetaci/\">Světáci</a></td>, <td data-sort-value=\"8\">8</td>, <td>13</td>, <td data-sort-value=\"20.512820512821\">20.51 %</td>, <td style=\"text-align:center;\">20.</td>, <td data-sort-value=\"Edovi Srdcari\"><a href=\"https://www.avlka.cz/init/pages/team/edovi-srdcari/\">Edovi Srdcaři</a></td>, <td data-sort-value=\"7\">7</td>, <td>19</td>, <td data-sort-value=\"12.280701754386\">12.28 %</td>]\n"
     ]
    }
   ],
   "source": [
    "# table muzes najit v nove sezone v Chrome Developer Tools\n",
    "# hledame vsechny \"tbody\" tags\n",
    "# na strance jsou 3 tables, my se zajimame o druhy => index 1\n",
    "# najdeme vsechny cells v tom table\n",
    "cells = soup.find_all('tbody')[1].find_all('td')\n",
    "\n",
    "print(cells)\n",
    "\n",
    "# containers pro nase hodnoty\n",
    "rank = []\n",
    "team = []\n",
    "points = []\n",
    "matches = []\n",
    "success = []\n",
    "\n",
    "for i in range(len(cells)):\n",
    "    if i % 5 == 0:\n",
    "        rank.append(cells[i].text.replace(\".\",\"\"))\n",
    "    elif i % 5 == 1:\n",
    "        team.append(cells[i].text)\n",
    "    elif i % 5 == 2:\n",
    "        points.append(cells[i].text)\n",
    "    elif i % 5 == 3:\n",
    "        matches.append(cells[i].text)\n",
    "    else:\n",
    "        success.append(cells[i].text)\n"
   ]
  },
  {
   "cell_type": "code",
   "execution_count": 10,
   "metadata": {},
   "outputs": [
    {
     "name": "stdout",
     "output_type": "stream",
     "text": [
      "   rank               team points matches  success\n",
      "0     1            Na tahu     48      19  84.21 %\n",
      "1     2          Game over     40      16  83.33 %\n",
      "2     3           Pasakrys     40      17  78.43 %\n",
      "3     4          Odvodniny     30      13  76.92 %\n",
      "4     5   Velryby na suchu     27      13  69.23 %\n",
      "5     6              Hypeq     33      16  68.75 %\n",
      "6     7  Strážci pomerančů     27      14  64.29 %\n",
      "7     8     Planeta Prasat     35      19   61.4 %\n",
      "8     9      Bum bác Praha     27      15     60 %\n",
      "9    10          Potenciál     27      16  56.25 %\n",
      "10   11       Bukanýři GBN     23      16  47.92 %\n",
      "11   12   Anonymní tučňáci     25      19  43.86 %\n",
      "12   13           Roozinky     19      15  42.22 %\n",
      "13   14               LAMY     22      19   38.6 %\n",
      "14   15        Želví salát     14      14  33.33 %\n",
      "15   16      DIDUS INEPTUS     16      19  28.07 %\n",
      "16   17        Bílé labutě     14      19  24.56 %\n",
      "17   18        Ouagadougou     13      19  22.81 %\n",
      "18   19            Světáci      8      13  20.51 %\n",
      "19   20      Edovi Srdcaři      7      19  12.28 %\n"
     ]
    }
   ],
   "source": [
    "# dataframe operations v pripade ze neznas: https://www.geeksforgeeks.org/python-pandas-dataframe/\n",
    "lst = list(zip(rank,team,points,matches,success))\n",
    "\n",
    "df = pd.DataFrame(lst, columns = ['rank','team','points','matches','success'])\n",
    "print(df)\n",
    "\n",
    "# mas bud lists nebo dataframe a to muzes automaticky poslat "
   ]
  }
 ],
 "metadata": {
  "kernelspec": {
   "display_name": "Python 3",
   "language": "python",
   "name": "python3"
  },
  "language_info": {
   "codemirror_mode": {
    "name": "ipython",
    "version": 3
   },
   "file_extension": ".py",
   "mimetype": "text/x-python",
   "name": "python",
   "nbconvert_exporter": "python",
   "pygments_lexer": "ipython3",
   "version": "3.7.3"
  }
 },
 "nbformat": 4,
 "nbformat_minor": 2
}
